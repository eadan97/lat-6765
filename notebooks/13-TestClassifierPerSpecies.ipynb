{
 "cells": [
  {
   "cell_type": "code",
   "execution_count": 1,
   "metadata": {},
   "outputs": [],
   "source": [
    "import os\n",
    "import sys\n",
    "\n",
    "module_path = os.path.abspath(os.path.join('..'))\n",
    "if module_path not in sys.path:\n",
    "    sys.path.append(module_path)\n"
   ]
  },
  {
   "cell_type": "code",
   "execution_count": 2,
   "metadata": {},
   "outputs": [],
   "source": [
    "GAN_MODEL_PATH='~/pl0025.ckpt'\n",
    "CLASS_MODEL_PATH='../logs/runs/2022-04-26/15-02-42/checkpoints/last.ckpt'\n",
    "CLASS_MODEL_PATH2='../logs/runs/2022-04-09/20-13-27/checkpoints/last.ckpt'\n",
    "IMAGE_FOLDER = '../data/unlid'\n",
    "SEED = 12345"
   ]
  },
  {
   "cell_type": "code",
   "execution_count": 3,
   "metadata": {},
   "outputs": [
    {
     "name": "stderr",
     "output_type": "stream",
     "text": [
      "Global seed set to 12345\n"
     ]
    },
    {
     "data": {
      "text/plain": [
       "12345"
      ]
     },
     "execution_count": 3,
     "metadata": {},
     "output_type": "execute_result"
    }
   ],
   "source": [
    "import pytorch_lightning as pl\n",
    "pl.seed_everything(SEED, workers=True)"
   ]
  },
  {
   "cell_type": "code",
   "execution_count": 4,
   "metadata": {},
   "outputs": [],
   "source": [
    "from src.models.resnet_model import ResnetModel\n",
    "resnet1 = ResnetModel.load_from_checkpoint(CLASS_MODEL_PATH)\n",
    "resnet1 = resnet1.model"
   ]
  },
  {
   "cell_type": "code",
   "execution_count": 5,
   "metadata": {},
   "outputs": [],
   "source": [
    "resnet2 = ResnetModel.load_from_checkpoint(CLASS_MODEL_PATH2)\n",
    "resnet2 = resnet2.model"
   ]
  },
  {
   "cell_type": "code",
   "execution_count": 6,
   "metadata": {},
   "outputs": [
    {
     "name": "stderr",
     "output_type": "stream",
     "text": [
      "C:\\ProgramData\\Miniconda3\\envs\\herbarium-time-machine\\lib\\site-packages\\torchmetrics\\utilities\\prints.py:37: UserWarning: Metric `FID` will save all extracted features in buffer. For large datasets this may lead to large memory footprint.\n",
      "  warnings.warn(*args, **kwargs)\n",
      "C:\\ProgramData\\Miniconda3\\envs\\herbarium-time-machine\\lib\\site-packages\\torchmetrics\\utilities\\prints.py:37: UserWarning: Metric `IS` will save all extracted features in buffer. For large datasets this may lead to large memory footprint.\n",
      "  warnings.warn(*args, **kwargs)\n"
     ]
    },
    {
     "data": {
      "text/plain": [
       "1442"
      ]
     },
     "execution_count": 6,
     "metadata": {},
     "output_type": "execute_result"
    }
   ],
   "source": [
    "from src.datamodules.ec_datamodule import EnhancedClassifierDatamodule\n",
    "\n",
    "ec_dm = EnhancedClassifierDatamodule('../data/', GAN_MODEL_PATH,dataset_name= \"unlid/A\", dataset_name_hallucination= \"unlid/B\", hallucination_percentage=0,\n",
    "train_val_test_split=(0.7, 0.15, 0.15), pin_memory=True, batch_size=124, num_workers=5 )\n",
    "\n",
    "ec_dm.setup()\n",
    "\n",
    "len(ec_dm.data_test)"
   ]
  },
  {
   "cell_type": "code",
   "execution_count": 7,
   "metadata": {},
   "outputs": [
    {
     "name": "stderr",
     "output_type": "stream",
     "text": [
      "C:\\ProgramData\\Miniconda3\\envs\\herbarium-time-machine\\lib\\site-packages\\torch\\nn\\functional.py:718: UserWarning: Named tensors and all their associated APIs are an experimental feature and subject to change. Please do not use them for anything important until they are released as stable. (Triggered internally at  ..\\c10/core/TensorImpl.h:1156.)\n",
      "  return torch.max_pool2d(input, kernel_size, stride, padding, dilation, ceil_mode)\n"
     ]
    }
   ],
   "source": [
    "import torch\n",
    "from torchmetrics import Accuracy\n",
    "\n",
    "resnet1 = resnet1.cuda()\n",
    "resnet1.eval()\n",
    "\n",
    "resnet2 = resnet2.cuda()\n",
    "resnet2.eval()\n",
    "\n",
    "with torch.no_grad():\n",
    "    acc1 = Accuracy(num_classes=255, average='none').cuda()\n",
    "    acc2 = Accuracy(num_classes=255, average='none').cuda()\n",
    "    test_loader = ec_dm.test_dataloader()\n",
    "\n",
    "    for data, target in test_loader:\n",
    "        images = data.cuda()\n",
    "        labels = target.cuda()\n",
    "        outputs1 = resnet1(images)\n",
    "        outputs2 = resnet2(images)\n",
    "\n",
    "        acc1(outputs1, labels)\n",
    "        acc2(outputs2, labels)\n",
    "    \n",
    "    pacc1 = acc1.compute()\n",
    "    pacc2 = acc2.compute()\n",
    "\n",
    "    # print('Test Accuracy of the model:',pacc)"
   ]
  },
  {
   "cell_type": "code",
   "execution_count": 8,
   "metadata": {},
   "outputs": [
    {
     "name": "stdout",
     "output_type": "stream",
     "text": [
      "                     Species  AccuracyHallucination  AccuracyNormal\n",
      "0       Acnistus arborescens               0.888889             1.0\n",
      "1         Aegiphila valerioi               1.000000             1.0\n",
      "2    Allophylus psilospermus               1.000000             1.0\n",
      "3      Alvaradoa amorphoides               1.000000             1.0\n",
      "4         Ambrosia peruviana               1.000000             1.0\n",
      "..                       ...                    ...             ...\n",
      "250     Trichilia havanensis               0.750000             1.0\n",
      "251           Ulmus mexicana               1.000000             1.0\n",
      "252         Urera caracasana               1.000000             1.0\n",
      "253     Verbesina ovatifolia               1.000000             1.0\n",
      "254          Vernonia patens               1.000000             1.0\n",
      "\n",
      "[255 rows x 3 columns]\n"
     ]
    }
   ],
   "source": [
    "import pandas as pd\n",
    "pacc1c = pacc1.clone()\n",
    "pacc2c = pacc2.clone()\n",
    "pacc1c.cpu()\n",
    "pacc2c.cpu()\n",
    "results=pd.DataFrame(columns=['Species', 'AccuracyHallucination', 'AccuracyNormal'])\n",
    "for class_ in ec_dm.data_test.dataset.classes:\n",
    "    idx = ec_dm.data_test.dataset.class_to_idx[class_]\n",
    "    results = results.append({'Species':class_, 'AccuracyHallucination':pacc1c[idx].item(), 'AccuracyNormal':pacc2c[idx].item()}, ignore_index=True)\n",
    "    # results.loc[class_] = pacc2[idx].item()\n",
    "print(results)\n",
    "results.to_csv('test.csv')"
   ]
  }
 ],
 "metadata": {
  "kernelspec": {
   "display_name": "Python 3.9.5 ('herbarium-time-machine')",
   "language": "python",
   "name": "python3"
  },
  "language_info": {
   "codemirror_mode": {
    "name": "ipython",
    "version": 3
   },
   "file_extension": ".py",
   "mimetype": "text/x-python",
   "name": "python",
   "nbconvert_exporter": "python",
   "pygments_lexer": "ipython3",
   "version": "3.9.5"
  },
  "orig_nbformat": 4,
  "vscode": {
   "interpreter": {
    "hash": "b8649ca0409918435243a43724b01b2abf9cc165e5e2d91cd79c9e516d3b08d0"
   }
  }
 },
 "nbformat": 4,
 "nbformat_minor": 2
}
